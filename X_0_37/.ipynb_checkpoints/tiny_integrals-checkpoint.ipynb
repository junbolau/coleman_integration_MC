{
 "cells": [
  {
   "cell_type": "markdown",
   "id": "3d0be5aa",
   "metadata": {},
   "source": [
    "## Equation ( see: Arithmetic of Weil curves, Mazur-Swinnerton-Dyer)"
   ]
  },
  {
   "cell_type": "raw",
   "id": "35faa064",
   "metadata": {},
   "source": [
    "var('X,Y')\n",
    "eqn = Y^2 -( -X^6 - 9*X^4 -11*X^2 + 37)"
   ]
  },
  {
   "cell_type": "markdown",
   "id": "e50736df",
   "metadata": {},
   "source": [
    "## Upper half plane representatives"
   ]
  },
  {
   "cell_type": "code",
   "execution_count": 1,
   "id": "fd3bb41e",
   "metadata": {},
   "outputs": [],
   "source": [
    "mfprec = 3000\n",
    "cfprec = 5000\n",
    "\n",
    "CF = ComplexField(cfprec)\n",
    "\n",
    "M = CuspForms(Gamma0(37),2)\n",
    "e1, _e = M.basis()\n",
    "e2 = e1 - 2*_e\n",
    "\n",
    "# Q = (1,-4) with j(Q) = -9317\n",
    "# R = (-1,-4) with j(R) = -162677523113838677\n",
    "\n",
    "jinvlist = [-9317, -162677523113838677]\n",
    "explist = []\n",
    "for Ejinv in jinvlist:\n",
    "    EQ = EllipticCurve([1,0,0,-36/(Ejinv-1728),-1/(Ejinv-1728)])\n",
    "    v = EQ.period_lattice().basis(prec=cfprec)\n",
    "    t0 = v[1]/v[0]\n",
    "    q0 = CF(e^(2*pi*I*t0))\n",
    "    explist.append(q0)"
   ]
  },
  {
   "cell_type": "markdown",
   "id": "d6188399",
   "metadata": {},
   "source": [
    "## Compute Taylor expansion"
   ]
  },
  {
   "cell_type": "code",
   "execution_count": 2,
   "id": "b5f7f5cd",
   "metadata": {},
   "outputs": [
    {
     "name": "stdout",
     "output_type": "stream",
     "text": [
      "CPU times: user 31min 24s, sys: 211 ms, total: 31min 24s\n",
      "Wall time: 31min 25s\n"
     ]
    }
   ],
   "source": [
    "%%time\n",
    "\n",
    "#try N = 200\n",
    "N = 200\n",
    "R.<q> = PowerSeriesRing(QQ,2000,sparse = True)\n",
    "eta_1 = 1 + sum((-1)^i*(q^(i*(3*i-1)/2)+q^(i*(3*i+1)/2)) for i in range(1,N))\n",
    "eta_2 = 1 + sum((-1)^i*(q^(i*(3*i-1))+q^(i*(3*i+1))) for i in range(1,floor(5*N/7)))\n",
    "\n",
    "#coeff_list = [omega_0_Q, omega_1_Q, omega_0_R, omega_1_R]\n",
    "coeff_list = []\n",
    "for ind in range(2):\n",
    "    q0 = explist[ind]\n",
    "    N_t = 150\n",
    "    eta_1_taylor = eta_1(q0)\n",
    "    eta_1_dn = eta_1\n",
    "    for i in range(1,N_t + 1):\n",
    "        eta_1_dn = eta_1_dn.derivative(q)\n",
    "        eta_1_taylor += eta_1_dn(q0)*(q^i)/factorial(i)\n",
    "    eta_2_taylor = eta_2(q0)\n",
    "    eta_2_dn = eta_2\n",
    "    for i in range(1,N_t + 1):\n",
    "        eta_2_dn = eta_2_dn.derivative(q)\n",
    "        eta_2_taylor += eta_2_dn(q0)*(q^i)/factorial(i)\n",
    "    q_taylor = q0 + q\n",
    "    f_taylor = q_taylor*(eta_2_taylor/eta_1_taylor)^24\n",
    "    j_taylor = ((256*f_taylor + 1)^3)/f_taylor\n",
    "    \n",
    "    j_d1_taylor = j_taylor.derivative(q)\n",
    "\n",
    "    jinv = j_taylor - jinvlist[ind] \n",
    "    djinv = j_d1_taylor\n",
    "\n",
    "    e1p = (-1/2)*sum(e1[i]*q^(i-1) for i in range(mfprec)) #-1/2 e1 dq/q corresponds to dx/y\n",
    "    m = 100\n",
    "    e1v = [e1p(q0)]\n",
    "    e1_d = e1p\n",
    "    for i in range(m-1):\n",
    "        e1_d = e1_d.derivative(q)\n",
    "        e1v.append(e1_d(q0)/factorial(i+1))\n",
    "    v = vector(e1v)\n",
    "\n",
    "    M = zero_matrix(CF,m)\n",
    "    jidj = djinv.truncate_powerseries(m)\n",
    "    for i in range(m):\n",
    "        for j in range(m):\n",
    "            if i <= j:\n",
    "                M[j,i] = jidj[j]\n",
    "        jidj = (jinv*jidj).truncate_powerseries(m)\n",
    "\n",
    "    sol1 = M.solve_right(v)\n",
    "    coeff_list.append(sol1)\n",
    "        \n",
    "    e2p = (-1/2)*sum(e2[i]*q^(i-1) for i in range(mfprec)) #-1/2 e2 dq/q corresponds to xdx/y\n",
    "    m = 100\n",
    "    e2v = [e2p(q0)]\n",
    "    e2_d = e2p\n",
    "    for i in range(m-1):\n",
    "        e2_d = e2_d.derivative(q)\n",
    "        e2v.append(e2_d(q0)/factorial(i+1))\n",
    "    v = vector(e2v)\n",
    "\n",
    "    M = zero_matrix(CF,m)\n",
    "    jidj = djinv.truncate_powerseries(m)\n",
    "    for i in range(m):\n",
    "        for j in range(m):\n",
    "            if i <= j:\n",
    "                M[j,i] = jidj[j]\n",
    "        jidj = (jinv*jidj).truncate_powerseries(m)\n",
    "\n",
    "    sol2 = M.solve_right(v)\n",
    "    coeff_list.append(sol2)"
   ]
  },
  {
   "cell_type": "markdown",
   "id": "4c6416a3",
   "metadata": {},
   "source": [
    "## Tiny integrals, model-free"
   ]
  },
  {
   "cell_type": "code",
   "execution_count": 3,
   "id": "9f0359cb",
   "metadata": {},
   "outputs": [],
   "source": [
    "### modular polynomial at p=3\n",
    "from ast import literal_eval\n",
    "with open('modpoly3.txt','r') as f:\n",
    "    L = f.readlines()\n",
    "modlist = [ literal_eval(i) for i in L]\n",
    "QPoly.<x,y> = PolynomialRing(QQ)\n",
    "f = 0\n",
    "for i in modlist:\n",
    "    if i[0][0] == i[0][1]:\n",
    "        f += i[1]*x^i[0][0]*y^i[0][1]\n",
    "    else:\n",
    "        f += i[1]*x^i[0][0]*y^i[0][1] + i[1]*y^i[0][0]*x^i[0][1]"
   ]
  },
  {
   "cell_type": "code",
   "execution_count": 4,
   "id": "6334f28a",
   "metadata": {},
   "outputs": [],
   "source": [
    "Rr.<y> = PolynomialRing(QQ)\n",
    "heckeimages = []\n",
    "for Ejinv in jinvlist:\n",
    "    modpolyroots = f(Ejinv,y)\n",
    "    K.<u> = modpolyroots.root_field()\n",
    "    L.<v> = K.galois_closure()\n",
    "    heckeimages.append(modpolyroots.roots(L))"
   ]
  },
  {
   "cell_type": "code",
   "execution_count": 7,
   "id": "2d0babda",
   "metadata": {},
   "outputs": [],
   "source": [
    "#coeff_list = [omega_0_Q, omega_1_Q, omega_0_R, omega_1_R]"
   ]
  },
  {
   "cell_type": "code",
   "execution_count": 5,
   "id": "99d8b0b2",
   "metadata": {},
   "outputs": [
    {
     "name": "stdout",
     "output_type": "stream",
     "text": [
      "3^15 + 3^16 + 2*3^18 + 2*3^19 + 2*3^20 + 3^21 + 2*3^22 + 3^23 + 3^25 + 2*3^26 + 3^27 + 2*3^28 + 2*3^29 + 3^30 + 2*3^31 + 2*3^32 + 3^33 + O(3^35)\n"
     ]
    }
   ],
   "source": [
    "# 1/(p+1-ap) *sum_i \\int_Q^Qi omega_0\n",
    "\n",
    "sol = coeff_list[0]\n",
    "ap = 1\n",
    "jP = -9317\n",
    "\n",
    "Rr.<y> = PolynomialRing(QQ)\n",
    "modpolyroots = f(jP,y)\n",
    "K.<u> = modpolyroots.root_field()\n",
    "L.<v> = K.galois_closure()\n",
    "res_list = modpolyroots.roots(L)\n",
    "\n",
    "t = var('t')\n",
    "omega = sum((-sol[i].real().algdep(3)[0]/sol[i].real().algdep(3)[1])*(t)^i for i in range(45))\n",
    "omega1 = integrate(omega,t)\n",
    "ring.<t> = PolynomialRing(L)\n",
    "omega1 = ring(omega1)\n",
    "\n",
    "print(Qp(3,20)((1/(3 + 1 - ap)*sum(omega1(i[0]-jP) for i in res_list))))"
   ]
  },
  {
   "cell_type": "code",
   "execution_count": 6,
   "id": "2a86b107",
   "metadata": {},
   "outputs": [
    {
     "name": "stdout",
     "output_type": "stream",
     "text": [
      "3^2 + 2*3^3 + 3^4 + 2*3^5 + 3^7 + 3^10 + 3^12 + 3^14 + 2*3^15 + 2*3^17 + 2*3^18 + 3^19 + 3^20 + 2*3^21 + O(3^22)\n"
     ]
    }
   ],
   "source": [
    "# 1/(p+1-ap) *sum_i \\int_Q^Qi omega_1\n",
    "\n",
    "sol = coeff_list[1]\n",
    "ap = -3\n",
    "jP = -9317\n",
    "\n",
    "Rr.<y> = PolynomialRing(QQ)\n",
    "modpolyroots = f(jP,y)\n",
    "K.<u> = modpolyroots.root_field()\n",
    "L.<v> = K.galois_closure()\n",
    "res_list = modpolyroots.roots(L)\n",
    "\n",
    "t = var('t')\n",
    "omega = sum((-sol[i].real().algdep(3)[0]/sol[i].real().algdep(3)[1])*(t)^i for i in range(48))\n",
    "omega1 = integrate(omega,t)\n",
    "ring.<t> = PolynomialRing(L)\n",
    "omega1 = ring(omega1)\n",
    "\n",
    "print(Qp(3,20)((1/(3 + 1 - ap)*sum(omega1(i[0]-jP) for i in res_list))))"
   ]
  },
  {
   "cell_type": "code",
   "execution_count": null,
   "id": "1c41dd3e",
   "metadata": {},
   "outputs": [],
   "source": [
    "# For the below two integrals, sage is unable to recover accurate enough coefficients.\n",
    "# See below for comparison with the coefficients obtained through model"
   ]
  },
  {
   "cell_type": "raw",
   "id": "5b2085a5",
   "metadata": {},
   "source": [
    "# 1/(p+1-ap) * sum_i \\int_R^Ri omega_0\n",
    "\n",
    "sol = coeff_list[2]\n",
    "ap = 1\n",
    "jP = -162677523113838677\n",
    "\n",
    "Rr.<y> = PolynomialRing(QQ)\n",
    "modpolyroots = f(jP,y)\n",
    "K.<u> = modpolyroots.root_field()\n",
    "L.<v> = K.galois_closure()\n",
    "res_list = modpolyroots.roots(L)\n",
    "\n",
    "t = var('t')\n",
    "omega = sum((-sol[i].real().algdep(3)[0]/sol[i].real().algdep(3)[1])*(t)^i for i in range(20))\n",
    "omega1 = integrate(omega,t)\n",
    "ring.<t> = PolynomialRing(L)\n",
    "omega1 = ring(omega1)\n",
    "\n",
    "print(Qp(3,20)((1/(3 + 1 - ap)*sum(omega1((1/i[0])-(1/jP)) for i in res_list))))"
   ]
  },
  {
   "cell_type": "raw",
   "id": "1fbb06dd",
   "metadata": {},
   "source": [
    "# 1/(p+1-ap) *sum_i \\int_R^Ri omega_1\n",
    "\n",
    "sol = coeff_list[3]\n",
    "ap = -3\n",
    "jP = -162677523113838677\n",
    "\n",
    "Rr.<y> = PolynomialRing(QQ)\n",
    "modpolyroots = f(jP,y)\n",
    "K.<u> = modpolyroots.root_field()\n",
    "L.<v> = K.galois_closure()\n",
    "res_list = modpolyroots.roots(L)\n",
    "\n",
    "t = var('t')\n",
    "omega = sum((-sol[i].real().algdep(3)[0]/sol[i].real().algdep(3)[1])*(t)^i for i in range(20))\n",
    "omega1 = integrate(omega,t)\n",
    "ring.<t> = PolynomialRing(L)\n",
    "omega1 = ring(omega1)\n",
    "\n",
    "print(Qp(3,20)((1/(3 + 1 - ap)*sum(omega1(i[0]-jP) for i in res_list))))"
   ]
  },
  {
   "cell_type": "markdown",
   "id": "453448f1",
   "metadata": {},
   "source": [
    "## Tiny integrals, model"
   ]
  },
  {
   "cell_type": "code",
   "execution_count": 4,
   "id": "b29c6289",
   "metadata": {},
   "outputs": [
    {
     "name": "stdout",
     "output_type": "stream",
     "text": [
      "2*3^27 + 2*3^28 + 2*3^29 + 2*3^30 + 2*3^31 + 3^32 + 3^33 + 3^34 + 3^35 + 2*3^36 + 3^39 + 2*3^40 + 2*3^41 + 3^42 + 3^43 + 2*3^44 + 3^45 + O(3^47)\n",
      "3^27 + 3^29 + 3^31 + 3^33 + 2*3^34 + 3^35 + 3^36 + 3^38 + 3^41 + 3^42 + 2*3^43 + 2*3^45 + 3^46 + O(3^47)\n",
      "3^2 + 2*3^3 + 3^4 + 2*3^5 + 3^7 + 3^10 + 3^12 + 3^14 + 2*3^15 + 2*3^17 + 2*3^19 + 3^20 + 3^21 + O(3^22)\n",
      "3^2 + 2*3^3 + 3^4 + 2*3^5 + 3^7 + 3^10 + 3^12 + 3^14 + 2*3^15 + 2*3^17 + 2*3^19 + 3^20 + 3^21 + O(3^22)\n"
     ]
    }
   ],
   "source": [
    "\n",
    "Rr.<y> = PolynomialRing(QQ)\n",
    "prec = 80\n",
    "x_list = [1,-1]\n",
    "j_list = [-9317,-162677523113838677]\n",
    "ap_list = [1,-3]\n",
    "coords_list = [y^4 + 1012533785513*y^3 + 140372502068383038*y^2 + 9810860202884130621428*y - 17247710632580485210724879,\n",
    "              y^4 + 4305094153066285264517312347356763838889677695001273*y^3 - 9608970149575330268048959169916909120283183825119285762*y^2 + 4606261319873662408670751782260001363635173459384202045748*y + 700342053433979764571782344694636909694619332410268153284289161176241\n",
    "            ]\n",
    "for ind_omega in range(2):\n",
    "    int_list = []\n",
    "    for ind in range(2):\n",
    "        t = var('t')\n",
    "        g = (- t^6 - 9*t^4 - 11*t^2 + 37)\n",
    "        omega_lst = [-1/sqrt(g),-t/sqrt(g)]\n",
    "        xP = x_list[ind]\n",
    "        jP = j_list[ind]\n",
    "        ap = ap_list[ind_omega]\n",
    "        omega_input = omega_lst[ind_omega]\n",
    "\n",
    "        omega = taylor(omega_input,t,xP,prec + 1)\n",
    "        omega = omega(t= t + xP)\n",
    "\n",
    "        a = -287496*t^38 - 470448*t^37 - 5450544*t^36 + 3692304*t^35 - 35881416*t^34 - 164954880*t^33 - 361304704*t^32 - 6419153088*t^31 - 16130795872*t^30 - 58193964672*t^29 - 202540022272*t^28 - 193755504768*t^27 - 225641305568*t^26 + 1293272764224*t^25 + 10706988351424*t^24 + 27324618790720*t^23 + 68849164909008*t^22 + 129848296286624*t^21 + 41159755598112*t^20 - 285835086139616*t^19 - 1177816808113712*t^18 - 3104957417380544*t^17 - 3769115416697664*t^16 - 692008322845760*t^15 + 7120289847187104*t^14 + 24346797856103168*t^13 + 34527726132542592*t^12 + 4866009404150528*t^11 - 47709753912153312*t^10 - 97497354908476480*t^9 - 109324166655741632*t^8 + 40052693382651328*t^7 + 250446579653938168*t^6 + 156499634266828688*t^5 - 142830220093745264*t^4 - 182784532019863728*t^3 - 7233748402609480*t^2 + 58441345187486400*t + 19830091900536000\n",
    "        b = -1646568*t^34 - 7912080*t^33 - 24266736*t^32 - 141154704*t^31 - 122229360*t^30 - 631820880*t^29 - 1603349232*t^28 + 7006833264*t^27 + 8442096624*t^26 + 90870661488*t^25 + 454451494736*t^24 + 882096447536*t^23 + 2682662606928*t^22 + 4478529942896*t^21 - 4473516039088*t^20 - 25629302843088*t^19 - 93608387655136*t^18 - 243595143234672*t^17 - 259931406086352*t^16 + 18516457420624*t^15 + 773115033781680*t^14 + 2675298950700816*t^13 + 3692528575484208*t^12 + 182546665454928*t^11 - 5865533386871664*t^10 - 12845207661594160*t^9 - 15397540828613520*t^8 + 6496524017618448*t^7 + 37749942077828208*t^6 + 22749745076797904*t^5 - 23153044382178960*t^4 - 28621355539246320*t^3 - 704610283977400*t^2 + 9607698755928000*t + 3260047059360000\n",
    "        c = -(t^38 + 36*t^37 + 629*t^36 + 7104*t^35 + 58275*t^34 + 369852*t^33 + 1888887*t^32 + 7970688*t^31 + 28312548*t^30 + 85795600*t^29 + 223926516*t^28 + 506662016*t^27 + 997490844*t^26 + 1709984304*t^25 + 2544619500*t^24 + 3257112960*t^23 + 3511574910*t^22 + 3029594040*t^21 + 1767263190*t^20 - 1767263190*t^18 - 3029594040*t^17 - 3511574910*t^16 - 3257112960*t^15 - 2544619500*t^14 - 1709984304*t^13 - 997490844*t^12 - 506662016*t^11 - 223926516*t^10 - 85795600*t^9 - 28312548*t^8 - 7970688*t^7 - 1888887*t^6 - 369852*t^5 - 58275*t^4 - 7104*t^3 - 629*t^2 - 36*t - 1)\n",
    "        j_inv = (a + b*(-sqrt(g)))/c\n",
    "\n",
    "        j_inv = taylor(j_inv,t,xP,prec + 1)\n",
    "        j_inv = j_inv(t = t + xP)\n",
    "\n",
    "        jinv = j_inv - j_inv(t=0)\n",
    "        djinv = jinv.differentiate(t)\n",
    "\n",
    "        R.<t> = PowerSeriesRing(QQ, default_prec= prec + 1)\n",
    "        jinv = R(jinv).truncate_powerseries(prec + 1)\n",
    "        djinv = R(djinv).truncate_powerseries(prec + 1)\n",
    "        omega = R(omega).truncate_powerseries(prec + 1)\n",
    "\n",
    "        v = vector(omega.list())\n",
    "\n",
    "        M = zero_matrix(QQ,prec + 1)\n",
    "        jidj = djinv.truncate_powerseries(prec +1)\n",
    "        for i in range(prec + 1):\n",
    "            for j in range(prec + 1):\n",
    "                if i <= j:\n",
    "                    M[j,i] = jidj[j]\n",
    "            jidj = (jinv*jidj).truncate_powerseries(prec + 1)\n",
    "\n",
    "        soln = M.solve_right(v)\n",
    "\n",
    "        coords = coords_list[ind]\n",
    "        \n",
    "        K.<u> = coords.root_field()\n",
    "        L.<v> = K.galois_closure()\n",
    "        res_list = coords.roots(L)\n",
    "\n",
    "        j = var('j')\n",
    "        RHS = sum(soln[i]*j^i for i in range(prec + 1))\n",
    "        RHSint = integrate(RHS,j)\n",
    "        ring.<j> = PolynomialRing(L)\n",
    "        RHSint = ring(RHSint)\n",
    "        print(Qp(3,20)((1/(3 + 1 - ap))*sum(RHSint((i[0])-(jP)) for i in res_list)))"
   ]
  },
  {
   "cell_type": "markdown",
   "id": "4a017b31",
   "metadata": {},
   "source": [
    "## Comparing coefficients of uniformiser expansion in the model and model-free approaches"
   ]
  },
  {
   "cell_type": "code",
   "execution_count": 3,
   "id": "8d0a8157",
   "metadata": {},
   "outputs": [],
   "source": [
    "# coeff from model\n",
    "# note that the two integrals that we couldn't compute are  sum \\int_Ri^R omega0 and sum \\int_Ri^R omega1\n",
    "\n",
    "Rr.<y> = PolynomialRing(QQ)\n",
    "prec = 80\n",
    "\n",
    "ap_list = [1,-3]\n",
    "soln_list = []\n",
    "for ind_omega in range(2):\n",
    "    t = var('t')\n",
    "    g = (- t^6 - 9*t^4 - 11*t^2 + 37)\n",
    "    omega_lst = [-1/sqrt(g),-t/sqrt(g)]\n",
    "    xP = -1\n",
    "    jP = -162677523113838677\n",
    "    ap = ap_list[ind_omega]\n",
    "    omega_input = omega_lst[ind_omega]\n",
    "\n",
    "    omega = taylor(omega_input,t,xP,prec + 1)\n",
    "    omega = omega(t= t + xP)\n",
    "\n",
    "    a = -287496*t^38 - 470448*t^37 - 5450544*t^36 + 3692304*t^35 - 35881416*t^34 - 164954880*t^33 - 361304704*t^32 - 6419153088*t^31 - 16130795872*t^30 - 58193964672*t^29 - 202540022272*t^28 - 193755504768*t^27 - 225641305568*t^26 + 1293272764224*t^25 + 10706988351424*t^24 + 27324618790720*t^23 + 68849164909008*t^22 + 129848296286624*t^21 + 41159755598112*t^20 - 285835086139616*t^19 - 1177816808113712*t^18 - 3104957417380544*t^17 - 3769115416697664*t^16 - 692008322845760*t^15 + 7120289847187104*t^14 + 24346797856103168*t^13 + 34527726132542592*t^12 + 4866009404150528*t^11 - 47709753912153312*t^10 - 97497354908476480*t^9 - 109324166655741632*t^8 + 40052693382651328*t^7 + 250446579653938168*t^6 + 156499634266828688*t^5 - 142830220093745264*t^4 - 182784532019863728*t^3 - 7233748402609480*t^2 + 58441345187486400*t + 19830091900536000\n",
    "    b = -1646568*t^34 - 7912080*t^33 - 24266736*t^32 - 141154704*t^31 - 122229360*t^30 - 631820880*t^29 - 1603349232*t^28 + 7006833264*t^27 + 8442096624*t^26 + 90870661488*t^25 + 454451494736*t^24 + 882096447536*t^23 + 2682662606928*t^22 + 4478529942896*t^21 - 4473516039088*t^20 - 25629302843088*t^19 - 93608387655136*t^18 - 243595143234672*t^17 - 259931406086352*t^16 + 18516457420624*t^15 + 773115033781680*t^14 + 2675298950700816*t^13 + 3692528575484208*t^12 + 182546665454928*t^11 - 5865533386871664*t^10 - 12845207661594160*t^9 - 15397540828613520*t^8 + 6496524017618448*t^7 + 37749942077828208*t^6 + 22749745076797904*t^5 - 23153044382178960*t^4 - 28621355539246320*t^3 - 704610283977400*t^2 + 9607698755928000*t + 3260047059360000\n",
    "    c = -(t^38 + 36*t^37 + 629*t^36 + 7104*t^35 + 58275*t^34 + 369852*t^33 + 1888887*t^32 + 7970688*t^31 + 28312548*t^30 + 85795600*t^29 + 223926516*t^28 + 506662016*t^27 + 997490844*t^26 + 1709984304*t^25 + 2544619500*t^24 + 3257112960*t^23 + 3511574910*t^22 + 3029594040*t^21 + 1767263190*t^20 - 1767263190*t^18 - 3029594040*t^17 - 3511574910*t^16 - 3257112960*t^15 - 2544619500*t^14 - 1709984304*t^13 - 997490844*t^12 - 506662016*t^11 - 223926516*t^10 - 85795600*t^9 - 28312548*t^8 - 7970688*t^7 - 1888887*t^6 - 369852*t^5 - 58275*t^4 - 7104*t^3 - 629*t^2 - 36*t - 1)\n",
    "    j_inv = (a + b*(-sqrt(g)))/c\n",
    "\n",
    "    j_inv = taylor(j_inv,t,xP,prec + 1)\n",
    "    j_inv = j_inv(t = t + xP)\n",
    "\n",
    "    jinv = j_inv - j_inv(t=0)\n",
    "    djinv = jinv.differentiate(t)\n",
    "\n",
    "    R.<t> = PowerSeriesRing(QQ, default_prec= prec + 1)\n",
    "    jinv = R(jinv).truncate_powerseries(prec + 1)\n",
    "    djinv = R(djinv).truncate_powerseries(prec + 1)\n",
    "    omega = R(omega).truncate_powerseries(prec + 1)\n",
    "\n",
    "    v = vector(omega.list())\n",
    "\n",
    "    M = zero_matrix(QQ,prec + 1)\n",
    "    jidj = djinv.truncate_powerseries(prec +1)\n",
    "    for i in range(prec + 1):\n",
    "        for j in range(prec + 1):\n",
    "            if i <= j:\n",
    "                M[j,i] = jidj[j]\n",
    "        jidj = (jinv*jidj).truncate_powerseries(prec + 1)\n",
    "\n",
    "    soln = M.solve_right(v)\n",
    "    \n",
    "    soln_list.append(soln)"
   ]
  },
  {
   "cell_type": "code",
   "execution_count": 147,
   "id": "aa0f2b54",
   "metadata": {},
   "outputs": [],
   "source": [
    "# Recover the model-free coefficients by hand by clearing denominators obtained from the model method\n",
    "omega_0_R_denom = [coeff.denominator() for coeff in soln_list[0][:15]]\n",
    "omega_1_R_denom = [coeff.denominator() for coeff in soln_list[1][:15]]"
   ]
  },
  {
   "cell_type": "code",
   "execution_count": 148,
   "id": "74eb07f7",
   "metadata": {},
   "outputs": [],
   "source": [
    "# Clearing denominators yields real numbers with long consecutive 9's and 0's\n",
    "# This recovers the integer corresponding to the numerator of the coefficients of the uniformiser expansion\n",
    "\n",
    "R1 = RealField(1200)\n",
    "def reconstruct_rat(a):\n",
    "    str_a = str(a)\n",
    "    nines = \"999999999\"\n",
    "    zeros = \"000000000\"\n",
    "    if str_a.rfind(\"e\") != -1:\n",
    "        if str_a[0] == \"-\":\n",
    "            if str_a.rfind(nines) != -1:\n",
    "                exp = ZZ(str_a[str_a.rfind(\"e\")+1:])\n",
    "                nume = -R1(str_a[1:str_a.rfind(nines)+9]) * 10^exp\n",
    "            elif str_a.rfind(zeros) != -1:\n",
    "                exp = ZZ(str_a[str_a.rfind(\"e\")+1:])\n",
    "                nume = -R1(str_a[1:str_a.rfind(zeros)+9]) * 10^exp\n",
    "        elif str_a[0] != \"-\":\n",
    "            if str_a.rfind(nines) != -1:\n",
    "                exp = ZZ(str_a[str_a.rfind(\"e\")+1:])\n",
    "                nume = R1(str_a[:str_a.rfind(nines)+9]) * 10^exp\n",
    "            elif str_a.rfind(zeros) != -1:\n",
    "                exp = ZZ(str_a[str_a.rfind(\"e\")+1:])\n",
    "                nume = R1(str_a[:str_a.rfind(zeros)+9]) * 10^exp\n",
    "        return -nume.algdep(2)[0]\n",
    "    elif str_a.rfind(\"e\") == -1:\n",
    "        if str_a[0] == \"-\":\n",
    "            if str_a.rfind(nines) != -1:\n",
    "                nume = -R1(str_a[1:str_a.rfind(nines)+9])\n",
    "            elif str_a.rfind(zeros) != -1:\n",
    "                nume = -R1(str_a[1:str_a.rfind(zeros)+9])\n",
    "        elif str_a[0] != \"-\":\n",
    "            if str_a.rfind(nines) != -1:\n",
    "                nume = R1(str_a[:str_a.rfind(nines)+9])\n",
    "            elif str_a.rfind(zeros) != -1:\n",
    "                nume = R1(str_a[:str_a.rfind(zeros)+9])\n",
    "        return -nume.algdep(2)[0]"
   ]
  },
  {
   "cell_type": "code",
   "execution_count": 149,
   "id": "b31cee37",
   "metadata": {},
   "outputs": [],
   "source": [
    "# numerators of coeff from model-free\n",
    "\n",
    "# omega_0_R\n",
    "soln = coeff_list[2]\n",
    "omega_0_R_mf = [reconstruct_rat(soln[ind].real()*omega_0_R_denom[ind]) for ind in range(15)]\n",
    "\n",
    "# omega_1_R\n",
    "soln = coeff_list[3]\n",
    "omega_1_R_mf = [reconstruct_rat(soln[ind].real()*omega_1_R_denom[ind]) for ind in range(15)]\n"
   ]
  },
  {
   "cell_type": "code",
   "execution_count": 152,
   "id": "5c600776",
   "metadata": {},
   "outputs": [],
   "source": [
    "# Comparing coefficients model-free vs model \n",
    "soln0 = soln_list[0]\n",
    "for ind in range(15):\n",
    "    if soln0[ind] != omega_0_R_mf[ind]/omega_0_R_denom[ind]:\n",
    "        print(False,ind)\n",
    "soln1 = soln_list[1]\n",
    "for ind in range(15):\n",
    "    if soln1[ind] != omega_1_R_mf[ind]/omega_1_R_denom[ind]:\n",
    "        print(False,ind)"
   ]
  },
  {
   "cell_type": "code",
   "execution_count": null,
   "id": "56331ff7",
   "metadata": {},
   "outputs": [],
   "source": [
    "# The coefficients agree up to the 15th term.\n",
    "# With enough precision, one could recover enough coefficients for the model free Coleman integrals.\n",
    "# The outputs of the above calculations agree with Magma (see the outoput of magma_tiny_integrals.m):\n",
    "\n",
    "# 1/(p+1-ap) * ( sum_i \\int_Q^Qi omega_0 - sum_i \\int_R^Ri omega0) = 0\n",
    "# 1/(p+1-ap) * ( sum_i \\int_Q^Qi omega_1 - sum_i \\int_R^Ri omega1) = 0"
   ]
  }
 ],
 "metadata": {
  "kernelspec": {
   "display_name": "SageMath 10.2.beta1",
   "language": "sage",
   "name": "sagemath"
  },
  "language_info": {
   "codemirror_mode": {
    "name": "ipython",
    "version": 3
   },
   "file_extension": ".py",
   "mimetype": "text/x-python",
   "name": "python",
   "nbconvert_exporter": "python",
   "pygments_lexer": "ipython3",
   "version": "3.10.12"
  }
 },
 "nbformat": 4,
 "nbformat_minor": 5
}
