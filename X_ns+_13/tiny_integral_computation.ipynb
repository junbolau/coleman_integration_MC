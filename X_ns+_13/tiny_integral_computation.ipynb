{
 "cells": [
  {
   "cell_type": "markdown",
   "metadata": {},
   "source": [
    "## Equation"
   ]
  },
  {
   "cell_type": "code",
   "execution_count": 4,
   "metadata": {},
   "outputs": [],
   "source": [
    "# Equation from canonical embedding\n",
    "var('X,Y')\n",
    "eqn = X^4 - 7/12*X^3*Y - 37/30*X^2*Y^2 + 37/30*X*Y^3 - 3/10*Y^4 - 61/60*X^3*Z + 41/15*X^2*Y*Z - 103/60*X*Y^2*Z + 19/60*Y^3*Z - 23/6*X^2*Z^2 + 87/20*X*Y*Z^2 - 14/15*Y^2*Z^2 - 199/60*X*Z^3 + 97/60*Y*Z^3 - 11/15*Z^4"
   ]
  },
  {
   "cell_type": "markdown",
   "metadata": {},
   "source": [
    "## Find upper half plane representatives"
   ]
  },
  {
   "cell_type": "markdown",
   "metadata": {},
   "source": [
    "- basis: ```basis_zywina_Gsq7.sage```\n",
    "- Gsq7: $G_{ns}^+(p) = \\langle \\begin{pmatrix} 1 & 7 \\\\ 1 & 1 \\end{pmatrix}, \\begin{pmatrix} 1 & 0 \\\\ 0 & -1 \\end{pmatrix} \\rangle$\n",
    "- cosets: $\\{T^i, (T^2)ST^i, (T^3)ST^i,(T^4)ST^i,(T^5)ST^i,(T^{12})ST^i\\}$\n",
    "- CM rational points discriminants = $\\{ -7,-8,-11,,-19,-28,-67,-163 \\}$\n",
    "- CM rational points coordinaates = $\\{ (3/5,2), (-2,2), (-2,-9/2), (-2, -8/3), (8/3, 2), (5/4, 2), (11, 43/2) \\}$"
   ]
  },
  {
   "cell_type": "code",
   "execution_count": 1,
   "metadata": {},
   "outputs": [],
   "source": [
    "load(\"basis_zywina_Gsq7.sage\")"
   ]
  },
  {
   "cell_type": "code",
   "execution_count": 2,
   "metadata": {},
   "outputs": [],
   "source": [
    "# 3 cusp forms\n",
    "b0 = basislst[0]\n",
    "b1 = basislst[1]\n",
    "b2 = basislst[2]"
   ]
  },
  {
   "cell_type": "code",
   "execution_count": 3,
   "metadata": {},
   "outputs": [],
   "source": [
    "tau7 = (1/2) + (1/2)*I*sqrt(7)\n",
    "tau8 = I*sqrt(2)\n",
    "tau11= (1/2) + (1/2)*I*sqrt(11)\n",
    "tau19= (1/2) + (1/2)*I*sqrt(19)\n",
    "tau28= I*sqrt(7)\n",
    "tau67= (1/2) + (1/2)*I*sqrt(67)\n",
    "tau163= (1/2) + (1/2)*I*sqrt(163)\n",
    "taulist = [tau7,tau8,tau11,tau19,tau28,tau67,tau163]"
   ]
  },
  {
   "cell_type": "code",
   "execution_count": 4,
   "metadata": {
    "scrolled": true
   },
   "outputs": [],
   "source": [
    "upper_rep = [\n",
    "[-7,-1/(tau7+1)+2],\n",
    "[-8,-1/(tau8+12)+4],\n",
    "[-11,tau11+6],\n",
    "[-19,-1/(tau19+1)+3],\n",
    "[-28,-1/(tau28+1)+5],\n",
    "[-67,-1/(tau67+7)+5],\n",
    "[-163,-1/(tau163+1)+2]] \n",
    "C1 = ComplexField(3000)\n",
    "explist = [C1(e^((2*pi*I*t[1])/13)) for t in upper_rep]"
   ]
  },
  {
   "cell_type": "code",
   "execution_count": 6,
   "metadata": {},
   "outputs": [],
   "source": [
    "# disc = -7 --> Q --> tQ\n",
    "# disc = -11 --> R --> tR\n",
    "tQ = upper_rep[0][1]\n",
    "tR = upper_rep[2][1]\n",
    "qQ = explist[0]\n",
    "qR = explist[2]"
   ]
  },
  {
   "cell_type": "markdown",
   "metadata": {},
   "source": [
    "## Compute taylor expansion"
   ]
  },
  {
   "cell_type": "code",
   "execution_count": 7,
   "metadata": {},
   "outputs": [
    {
     "name": "stdout",
     "output_type": "stream",
     "text": [
      "CPU times: user 3min 8s, sys: 39.9 ms, total: 3min 8s\n",
      "Wall time: 3min 8s\n"
     ]
    }
   ],
   "source": [
    "%%time\n",
    "mfprec = 5000\n",
    "R.<q> = PowerSeriesRing(QQ,mfprec)\n",
    "omega0 = sum(b0[i]*q^(i-1) for i in range(mfprec))\n",
    "omega1 = sum(b1[i]*q^(i-1) for i in range(mfprec))\n",
    "omega2 = sum(b2[i]*q^(i-1) for i in range(mfprec))"
   ]
  },
  {
   "cell_type": "code",
   "execution_count": 8,
   "metadata": {},
   "outputs": [
    {
     "name": "stdout",
     "output_type": "stream",
     "text": [
      "CPU times: user 7min 12s, sys: 31.8 ms, total: 7min 12s\n",
      "Wall time: 7min 12s\n"
     ]
    }
   ],
   "source": [
    "%%time\n",
    "# compute the derivatives of omega_i\n",
    "matsize = 50\n",
    "v_list = []\n",
    "for omega in [omega0,omega1,omega2]:\n",
    "    for q0 in [qQ,qR]:\n",
    "        #q0 = qR\n",
    "        #omega = omega0\n",
    "        omega_v = [omega(q=q0)]\n",
    "        omega_d = omega\n",
    "        for i in range(matsize-1):\n",
    "            omega_d = omega_d.derivative(q)\n",
    "            omega_v.append(omega_d(q=q0)/factorial(i+1))\n",
    "        #v0Q = vector(omega_v)\n",
    "        v_list.append(vector(omega_v))"
   ]
  },
  {
   "cell_type": "code",
   "execution_count": 10,
   "metadata": {},
   "outputs": [],
   "source": [
    "etaprec = 100\n",
    "eta_1 = 1 + sum((-1)^i*(q^(13*i*(3*i-1)/2)+q^(13*i*(3*i+1)/2)) for i in range(1,etaprec))\n",
    "eta_2 = 1 + sum((-1)^i*(q^(13*i*(3*i-1))+q^(13*i*(3*i+1))) for i in range(1,floor(etaprec/2)))"
   ]
  },
  {
   "cell_type": "code",
   "execution_count": 11,
   "metadata": {},
   "outputs": [
    {
     "name": "stdout",
     "output_type": "stream",
     "text": [
      "CPU times: user 20min 12s, sys: 1.26 s, total: 20min 13s\n",
      "Wall time: 20min 7s\n"
     ]
    }
   ],
   "source": [
    "%%time\n",
    "j_taylor_list = []\n",
    "for q0 in [qQ,qR]:\n",
    "    eta_1_taylor = eta_1(q=q0)\n",
    "    eta_1_dn = eta_1\n",
    "    for i in range(1,matsize):\n",
    "        eta_1_dn = eta_1_dn.derivative(q)\n",
    "        eta_1_taylor += eta_1_dn(q=q0)*(q^i)/factorial(i)\n",
    "    eta_2_taylor = eta_2(q=q0)\n",
    "    eta_2_dn = eta_2\n",
    "    for i in range(1,matsize):\n",
    "        eta_2_dn = eta_2_dn.derivative(q)\n",
    "        eta_2_taylor += eta_2_dn(q=q0)*(q^i)/factorial(i)\n",
    "    q_taylor = q0 + q\n",
    "\n",
    "    f_taylor = (q_taylor)^13*(eta_2_taylor/eta_1_taylor)^24\n",
    "    j_taylor = ((256*f_taylor + 1)^3)/f_taylor\n",
    "    #j_d1_taylor = j_taylor.derivative(q)\n",
    "    j_taylor_list.append(j_taylor)"
   ]
  },
  {
   "cell_type": "code",
   "execution_count": 13,
   "metadata": {},
   "outputs": [],
   "source": [
    "jQ = -3375\n",
    "jR = -32768\n",
    "jinvariant = [jQ,jR]\n",
    "jinv_list = []\n",
    "djinv_list = []\n",
    "for i in range(2):\n",
    "    j0 = jinvariant[i]\n",
    "    jinv = j_taylor_list[i] - j0\n",
    "    jinv_list.append(jinv)\n",
    "    j_d1_taylor = j_taylor_list[i].derivative(q)\n",
    "    djinv = j_d1_taylor\n",
    "    djinv_list.append(djinv)"
   ]
  },
  {
   "cell_type": "code",
   "execution_count": 14,
   "metadata": {},
   "outputs": [
    {
     "name": "stdout",
     "output_type": "stream",
     "text": [
      "CPU times: user 1min 18s, sys: 36 ms, total: 1min 18s\n",
      "Wall time: 1min 17s\n"
     ]
    }
   ],
   "source": [
    "%%time\n",
    "M_list = []\n",
    "for k in range(2):\n",
    "    M = zero_matrix(C1,matsize)\n",
    "    jidj = djinv_list[k].truncate_powerseries(matsize)\n",
    "    for i in range(matsize):\n",
    "        for j in range(matsize):\n",
    "            if i <= j:\n",
    "                M[j,i] = jidj[j]\n",
    "        jidj = (jinv_list[k]*jidj).truncate_powerseries(matsize)\n",
    "    M_list.append(M)"
   ]
  },
  {
   "cell_type": "code",
   "execution_count": 15,
   "metadata": {},
   "outputs": [],
   "source": [
    "sol_list = []\n",
    "sol_list.append([\"omega0,Q\",M_list[0].solve_right(v_list[0])])\n",
    "sol_list.append([\"omega0,R\",M_list[1].solve_right(v_list[1])])\n",
    "sol_list.append([\"omega1,Q\",M_list[0].solve_right(v_list[2])])\n",
    "sol_list.append([\"omega1,R\",M_list[1].solve_right(v_list[3])])\n",
    "sol_list.append([\"omega2,Q\",M_list[0].solve_right(v_list[4])])\n",
    "sol_list.append([\"omega2,R\",M_list[1].solve_right(v_list[5])])"
   ]
  },
  {
   "cell_type": "code",
   "execution_count": null,
   "metadata": {},
   "outputs": [],
   "source": [
    "# Manually set the coefficients since algdep is unable to recover them as rational numbers\n",
    "# Note that we have experimental estimates of the growth of the denominators"
   ]
  },
  {
   "cell_type": "code",
   "execution_count": 16,
   "metadata": {},
   "outputs": [],
   "source": [
    "coeff_Q_omega0 = []\n",
    "for i in range(49):\n",
    "    a = (sol_list[0][1][i]*(3^(9*(i+1))*5^(3*(i+1))*13^(i+1))).real()\n",
    "    #print(a)\n",
    "    if str(a).count('00000000')>1:\n",
    "        aa = C1(str(a).split('00000000')[0])\n",
    "        #print(str(a).split('00000000')[0])\n",
    "        #print(aa)\n",
    "        if str(str(a).split('00000000')[-1]).count('e')>0:\n",
    "            b = int(str(a).split('00000000')[-1].split('e')[-1])\n",
    "        else:\n",
    "            b=0\n",
    "        if aa>0:\n",
    "            nu = int(abs(aa*10^b))\n",
    "        else:\n",
    "            nu = -int(abs(aa*10^b))\n",
    "    if str(a).count('9999999')>1:\n",
    "        aa = str(a).split('9999999')[0]\n",
    "        if aa[-1] == '.':\n",
    "            b = str(int(aa[-2])+1)\n",
    "            c = C1(aa[:-2]+b)\n",
    "        else:\n",
    "            b = str(int(aa[-1])+1)\n",
    "            c = C1(aa[:-1]+b)\n",
    "        if str(str(a).split('9999999')[-1]).count('e')>0:\n",
    "            d = int(str(a).split('9999999')[-1].split('e')[-1])\n",
    "            #print(d)\n",
    "        else:\n",
    "            d=0\n",
    "        if c>0:\n",
    "            nu = int(abs(c*10^d))\n",
    "        else:\n",
    "            nu = -int(abs(c*10^d))\n",
    "        #print(d)\n",
    "    coeff_Q_omega0.append(nu/(3^(9*(i+1))*5^(3*(i+1))*13^(i+1)))\n",
    "    #print(nu)"
   ]
  },
  {
   "cell_type": "code",
   "execution_count": 17,
   "metadata": {},
   "outputs": [],
   "source": [
    "coeff_Q_omega1 = []\n",
    "for i in range(49):\n",
    "    a = (sol_list[2][1][i]*(3^(9*(i+1))*5^(3*(i+1))*13^(i+1))).real()\n",
    "    #print(a)\n",
    "    if str(a).count('00000000')>1:\n",
    "        aa = C1(str(a).split('00000000')[0])\n",
    "        #print(str(a).split('00000000')[0])\n",
    "        #print(aa)\n",
    "        if str(str(a).split('00000000')[-1]).count('e')>0:\n",
    "            b = int(str(a).split('00000000')[-1].split('e')[-1])\n",
    "        else:\n",
    "            b=0\n",
    "        if aa>0:\n",
    "            nu = int(abs(aa*10^b))\n",
    "        else:\n",
    "            nu = -int(abs(aa*10^b))\n",
    "    if str(a).count('9999999')>1:\n",
    "        aa = str(a).split('9999999')[0]\n",
    "        if aa[-1] == '.':\n",
    "            b = str(int(aa[-2])+1)\n",
    "            c = C1(aa[:-2]+b)\n",
    "        else:\n",
    "            b = str(int(aa[-1])+1)\n",
    "            c = C1(aa[:-1]+b)\n",
    "        if str(str(a).split('9999999')[-1]).count('e')>0:\n",
    "            d = int(str(a).split('9999999')[-1].split('e')[-1])\n",
    "            #print(d)\n",
    "        else:\n",
    "            d=0\n",
    "        if c>0:\n",
    "            nu = int(abs(c*10^d))\n",
    "        else:\n",
    "            nu = -int(abs(c*10^d))\n",
    "        #print(d)\n",
    "    coeff_Q_omega1.append(nu/(3^(9*(i+1))*5^(3*(i+1))*13^(i+1)))\n",
    "    #print(nu)"
   ]
  },
  {
   "cell_type": "code",
   "execution_count": 18,
   "metadata": {},
   "outputs": [],
   "source": [
    "coeff_Q_omega2 = []\n",
    "for i in range(49):\n",
    "    a = (sol_list[4][1][i]*(3^(9*(i+1))*5^(3*(i+1))*13^(i+1))).real()\n",
    "    #print(a)\n",
    "    if str(a).count('00000000')>1:\n",
    "        aa = C1(str(a).split('00000000')[0])\n",
    "        #print(str(a).split('00000000')[0])\n",
    "        #print(aa)\n",
    "        if str(str(a).split('00000000')[-1]).count('e')>0:\n",
    "            b = int(str(a).split('00000000')[-1].split('e')[-1])\n",
    "        else:\n",
    "            b=0\n",
    "        if aa>0:\n",
    "            nu = int(abs(aa*10^b))\n",
    "        else:\n",
    "            nu = -int(abs(aa*10^b))\n",
    "    if str(a).count('9999999')>1:\n",
    "        aa = str(a).split('9999999')[0]\n",
    "        if aa[-1] == '.':\n",
    "            b = str(int(aa[-2])+1)\n",
    "            c = C1(aa[:-2]+b)\n",
    "        else:\n",
    "            b = str(int(aa[-1])+1)\n",
    "            c = C1(aa[:-1]+b)\n",
    "        if str(str(a).split('9999999')[-1]).count('e')>0:\n",
    "            d = int(str(a).split('9999999')[-1].split('e')[-1])\n",
    "            #print(d)\n",
    "        else:\n",
    "            d=0\n",
    "        if c>0:\n",
    "            nu = int(abs(c*10^d))\n",
    "        else:\n",
    "            nu = -int(abs(c*10^d))\n",
    "        #print(d)\n",
    "    coeff_Q_omega2.append(nu/(3^(9*(i+1))*5^(3*(i+1))*13^(i+1)))\n",
    "    #print(nu)"
   ]
  },
  {
   "cell_type": "code",
   "execution_count": 19,
   "metadata": {},
   "outputs": [],
   "source": [
    "coeff_R_omega0 = []\n",
    "for i in range(50):\n",
    "    a = (sol_list[1][1][i]*(2^(15*(i+1))*7^(2*(i+1))*13^(i+1))).real()\n",
    "    #print(a)\n",
    "    if str(a).count('00000000')>1:\n",
    "        aa = C1(str(a).split('00000000')[0])\n",
    "        #print(str(a).split('00000000')[0])\n",
    "        #print(aa)\n",
    "        if str(str(a).split('00000000')[-1]).count('e')>0:\n",
    "            b = int(str(a).split('00000000')[-1].split('e')[-1])\n",
    "        else:\n",
    "            b=0\n",
    "        if aa>0:\n",
    "            nu = int(abs(aa*10^b))\n",
    "        else:\n",
    "            nu = -int(abs(aa*10^b))\n",
    "    if str(a).count('9999999')>1:\n",
    "        aa = str(a).split('9999999')[0]\n",
    "        if aa[-1] == '.':\n",
    "            b = str(int(aa[-2])+1)\n",
    "            c = C1(aa[:-2]+b)\n",
    "        else:\n",
    "            b = str(int(aa[-1])+1)\n",
    "            c = C1(aa[:-1]+b)\n",
    "        if str(str(a).split('9999999')[-1]).count('e')>0:\n",
    "            d = int(str(a).split('9999999')[-1].split('e')[-1])\n",
    "            #print(d)\n",
    "        else:\n",
    "            d=0\n",
    "        if c>0:\n",
    "            nu = int(abs(c*10^d))\n",
    "        else:\n",
    "            nu = -int(abs(c*10^d))\n",
    "        #print(d)\n",
    "    coeff_R_omega0.append(nu/(2^(15*(i+1))*7^(2*(i+1))*13^(i+1)))\n",
    "    #print(nu)"
   ]
  },
  {
   "cell_type": "code",
   "execution_count": 20,
   "metadata": {},
   "outputs": [],
   "source": [
    "coeff_R_omega1 = []\n",
    "for i in range(50):\n",
    "    a = (sol_list[3][1][i]*(2^(15*(i+1))*7^(2*(i+1))*13^(i+1))).real()\n",
    "    #print(a)\n",
    "    if str(a).count('00000000')>1:\n",
    "        aa = C1(str(a).split('00000000')[0])\n",
    "        #print(str(a).split('00000000')[0])\n",
    "        #print(aa)\n",
    "        if str(str(a).split('00000000')[-1]).count('e')>0:\n",
    "            b = int(str(a).split('00000000')[-1].split('e')[-1])\n",
    "        else:\n",
    "            b=0\n",
    "        if aa>0:\n",
    "            nu = int(abs(aa*10^b))\n",
    "        else:\n",
    "            nu = -int(abs(aa*10^b))\n",
    "    if str(a).count('9999999')>1:\n",
    "        aa = str(a).split('9999999')[0]\n",
    "        if aa[-1] == '.':\n",
    "            b = str(int(aa[-2])+1)\n",
    "            c = C1(aa[:-2]+b)\n",
    "        else:\n",
    "            b = str(int(aa[-1])+1)\n",
    "            c = C1(aa[:-1]+b)\n",
    "        if str(str(a).split('9999999')[-1]).count('e')>0:\n",
    "            d = int(str(a).split('9999999')[-1].split('e')[-1])\n",
    "            #print(d)\n",
    "        else:\n",
    "            d=0\n",
    "        if c>0:\n",
    "            nu = int(abs(c*10^d))\n",
    "        else:\n",
    "            nu = -int(abs(c*10^d))\n",
    "        #print(d)\n",
    "    coeff_R_omega1.append(nu/(2^(15*(i+1))*7^(2*(i+1))*13^(i+1)))\n",
    "    #print(nu)"
   ]
  },
  {
   "cell_type": "code",
   "execution_count": 21,
   "metadata": {},
   "outputs": [],
   "source": [
    "coeff_R_omega2 = []\n",
    "for i in range(50):\n",
    "    a = (sol_list[5][1][i]*(2^(15*(i+1))*7^(2*(i+1))*13^(i+1))).real()\n",
    "    #print(a)\n",
    "    if str(a).count('00000000')>1:\n",
    "        aa = C1(str(a).split('00000000')[0])\n",
    "        #print(str(a).split('00000000')[0])\n",
    "        #print(aa)\n",
    "        if str(str(a).split('00000000')[-1]).count('e')>0:\n",
    "            b = int(str(a).split('00000000')[-1].split('e')[-1])\n",
    "        else:\n",
    "            b=0\n",
    "        if aa>0:\n",
    "            nu = int(abs(aa*10^b))\n",
    "        else:\n",
    "            nu = -int(abs(aa*10^b))\n",
    "    if str(a).count('9999999')>1:\n",
    "        aa = str(a).split('9999999')[0]\n",
    "        if aa[-1] == '.':\n",
    "            b = str(int(aa[-2])+1)\n",
    "            c = C1(aa[:-2]+b)\n",
    "        else:\n",
    "            b = str(int(aa[-1])+1)\n",
    "            c = C1(aa[:-1]+b)\n",
    "        if str(str(a).split('9999999')[-1]).count('e')>0:\n",
    "            d = int(str(a).split('9999999')[-1].split('e')[-1])\n",
    "            #print(d)\n",
    "        else:\n",
    "            d=0\n",
    "        if c>0:\n",
    "            nu = int(abs(c*10^d))\n",
    "        else:\n",
    "            nu = -int(abs(c*10^d))\n",
    "        #print(d)\n",
    "    coeff_R_omega2.append(nu/(2^(15*(i+1))*7^(2*(i+1))*13^(i+1)))\n",
    "    #print(nu)"
   ]
  },
  {
   "cell_type": "markdown",
   "metadata": {},
   "source": [
    "## Action of Hecke operator"
   ]
  },
  {
   "cell_type": "raw",
   "metadata": {},
   "source": [
    "# Q --> Q_i tauQ_i qQ_i\n",
    "# R --> R_i tauR_i qR_i\n",
    "M = MatrixSpace(ZZ,2)\n",
    "T3matrix = [M([1,18,-3,-51]),M([-35,-17,99,48]),M([37,-19,-105,54]),M([210,19,-597,-54])]\n",
    "tauT3_list = []\n",
    "for tau in [tQ,tR]:\n",
    "    tauT3_list.append([(m[0,0]*tau+m[0,1])/(m[1,0]*tau+m[1,1]) for m in T3matrix])\n",
    "heckejsum = []\n",
    "for i in range(2):\n",
    "    heckejsum.append([elliptic_j(tauT3_list[i][j],1000)-jinvariant[i]  for j in range(4)])"
   ]
  },
  {
   "cell_type": "code",
   "execution_count": 22,
   "metadata": {},
   "outputs": [],
   "source": [
    "# modular polynomial at p=11\n",
    "from ast import literal_eval\n",
    "with open('modpoly11.txt','r') as f:\n",
    "    L = f.readlines()\n",
    "modlist = [ literal_eval(i) for i in L]\n",
    "R5.<x,y> = PolynomialRing(QQ)\n",
    "f = 0\n",
    "for i in modlist:\n",
    "    if i[0][0] == i[0][1]:\n",
    "        f += i[1]*x^i[0][0]*y^i[0][1]\n",
    "    else:\n",
    "        f += i[1]*x^i[0][0]*y^i[0][1] + i[1]*y^i[0][0]*x^i[0][1]"
   ]
  },
  {
   "cell_type": "code",
   "execution_count": 23,
   "metadata": {},
   "outputs": [],
   "source": [
    "# j-invariants j(Q_i) and j(R_i) that are 11-isogeneous to Q,R respectively \n",
    "heckeimages = []\n",
    "splitting_field = []\n",
    "for jj in [jQ,jR]:\n",
    "    fff = f(jj,y)\n",
    "    R6.<y> = PolynomialRing(QQ)\n",
    "    L.<d> = Rr=R6(fff).splitting_field()\n",
    "    splitting_field.append(L)\n",
    "    heckeimages.append(R6(fff).roots(L))"
   ]
  },
  {
   "cell_type": "code",
   "execution_count": 27,
   "metadata": {},
   "outputs": [],
   "source": [
    "# account for repeated roots\n",
    "heckimages_clean = []\n",
    "for hecke in heckeimages:\n",
    "    heckeimage_temp = []\n",
    "    for i in hecke:\n",
    "        heckeimage_temp += [i[0]]*i[1]\n",
    "    heckimages_clean.append(heckeimage_temp)"
   ]
  },
  {
   "cell_type": "markdown",
   "metadata": {},
   "source": [
    "## Tiny integrals"
   ]
  },
  {
   "cell_type": "code",
   "execution_count": 28,
   "metadata": {},
   "outputs": [],
   "source": [
    "coeff_list = [coeff_Q_omega0,coeff_R_omega0,coeff_Q_omega1,coeff_R_omega1,coeff_Q_omega2,coeff_R_omega2]"
   ]
  },
  {
   "cell_type": "code",
   "execution_count": 29,
   "metadata": {},
   "outputs": [
    {
     "name": "stdout",
     "output_type": "stream",
     "text": [
      "10*11^-1 + 9 + 9*11 + 6*11^2 + 7*11^3 + 9*11^4 + 8*11^5 + 4*11^6 + 7*11^7 + 11^8 + 8*11^9 + 7*11^10 + 3*11^11 + 7*11^12 + 4*11^13 + 7*11^14 + 8*11^15 + 5*11^16 + 4*11^17 + 3*11^18 + 3*11^20 + 3*11^21 + 11^22 + 9*11^24 + 11^25 + 7*11^26 + 3*11^27 + 3*11^28 + O(11^29)\n",
      "7*11^-1 + 2 + 3*11 + 9*11^2 + 3*11^3 + 5*11^4 + 5*11^5 + 4*11^6 + 7*11^7 + 10*11^8 + 2*11^9 + 6*11^10 + 3*11^11 + 6*11^12 + 6*11^13 + 4*11^15 + 11^16 + 11^17 + 9*11^18 + 5*11^19 + 6*11^20 + 5*11^21 + 2*11^22 + 8*11^23 + 4*11^24 + 4*11^25 + 2*11^26 + 7*11^28 + O(11^29)\n",
      "8*11^-1 + 6 + 5*11 + 8*11^2 + 4*11^3 + 5*11^4 + 9*11^5 + 3*11^6 + 9*11^7 + 5*11^8 + 4*11^10 + 10*11^11 + 9*11^12 + 9*11^13 + 4*11^14 + 7*11^15 + 3*11^16 + 5*11^17 + 3*11^18 + 9*11^20 + 11^21 + 6*11^22 + 9*11^23 + 10*11^24 + 10*11^25 + 5*11^26 + 10*11^27 + 2*11^28 + O(11^29)\n",
      "6 + 6*11 + 11^3 + 5*11^4 + 7*11^5 + 10*11^6 + 5*11^7 + 3*11^9 + 11^10 + 9*11^11 + 3*11^12 + 4*11^13 + 3*11^14 + 9*11^15 + 11^16 + 5*11^18 + 10*11^19 + 7*11^20 + 3*11^21 + 9*11^22 + 10*11^24 + 4*11^25 + 5*11^26 + 9*11^27 + 9*11^28 + 8*11^29 + O(11^30)\n",
      "10*11^-1 + 8 + 8*11 + 11^2 + 9*11^4 + 11^5 + 7*11^6 + 6*11^7 + 9*11^8 + 3*11^9 + 2*11^10 + 3*11^11 + 6*11^12 + 2*11^13 + 7*11^14 + 8*11^15 + 3*11^16 + 2*11^17 + 8*11^18 + 4*11^19 + 6*11^20 + 4*11^21 + 11^22 + 9*11^23 + 3*11^24 + 10*11^25 + 3*11^26 + 3*11^27 + 5*11^28 + O(11^29)\n",
      "7*11^-1 + 4 + 11 + 10*11^2 + 10*11^3 + 5*11^4 + 5*11^5 + 2*11^7 + 7*11^8 + 6*11^9 + 5*11^10 + 6*11^11 + 4*11^12 + 7*11^13 + 7*11^14 + 10*11^15 + 3*11^16 + 9*11^18 + 3*11^19 + 6*11^20 + 5*11^21 + 6*11^22 + 11^23 + 2*11^24 + 11^25 + 7*11^26 + 2*11^27 + 6*11^28 + O(11^29)\n"
     ]
    }
   ],
   "source": [
    "inte_list= []\n",
    "for i in range(6):\n",
    "    # omega1,R\n",
    "    coeff = coeff_list[i]\n",
    "    #Rr.<U> = PolynomialRing(L)\n",
    "    if mod(i,2) == 0:\n",
    "        Rr.<U> = PolynomialRing(splitting_field[0])\n",
    "        RHS = sum((coeff[i]*U^i for i in range(49)))\n",
    "        RHSint = integrate(RHS,U)\n",
    "        inte = sum((RHSint(U=i) for i in heckimages_clean[0]))\n",
    "    else:\n",
    "        Rr.<U> = PolynomialRing(splitting_field[1])\n",
    "        RHS = sum((coeff[i]*U^i for i in range(49)))\n",
    "        RHSint = integrate(RHS,U)\n",
    "        inte = sum((RHSint(U=i) for i in heckimages_clean[1]))\n",
    "    Q11 = Qp(11,30)\n",
    "    inte_list.append(Q11(inte))\n",
    "    #print(int)\n",
    "    print(Q11(inte))"
   ]
  }
 ],
 "metadata": {
  "kernelspec": {
   "display_name": "SageMath 10.2.beta1",
   "language": "sage",
   "name": "sagemath"
  },
  "language_info": {
   "codemirror_mode": {
    "name": "ipython",
    "version": 3
   },
   "file_extension": ".py",
   "mimetype": "text/x-python",
   "name": "python",
   "nbconvert_exporter": "python",
   "pygments_lexer": "ipython3",
   "version": "3.10.12"
  }
 },
 "nbformat": 4,
 "nbformat_minor": 4
}
