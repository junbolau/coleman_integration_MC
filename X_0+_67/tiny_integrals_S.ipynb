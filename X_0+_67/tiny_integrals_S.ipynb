{
 "cells": [
  {
   "cell_type": "markdown",
   "metadata": {},
   "source": [
    "### We compute tiny integrals $\\sum_{i=0}^{13} \\int_S^{S_i} \\omega_0, \\omega_1$ using our idea but with the help of model to get higher precision\n",
    "#### Model here comes from \"X_0+(67) model and rational points.ipynb\""
   ]
  },
  {
   "cell_type": "code",
   "execution_count": 1,
   "metadata": {},
   "outputs": [
    {
     "name": "stdout",
     "output_type": "stream",
     "text": [
      "54000.0000000000000000000000000000000000000000000000000000000000000000000000000000000000000000000000000000000000000000000000000000000000000000000000000000000000000000000000000000000000000000000000000000000000000000000000000457042502501874216902229754398785311089826740501061798495897483982189154467871 - 3.84858152008760452570787952243869190516121419060421226075861768754990585788836829035303302231336802783869393596374945837073010868790920219911092039494158442251788086143154142434982443122143616923589132303020509088185478669713003162672780769639840643893066593396155694610343424837486648700558148902305e-218*I\n",
      "1.07805047155300748919654276260078653876290065617123481266596105344523466999542783687983779914984348814942320451978056422565342403570223542569904134290215952588043307994643366015479639520740555983071169262881335575825338871706281785719938144678242917456618446783078581504244283722057638339817819287358e45 + 1.35183253332604636910972888321649255669592766933225634388987483683140720874313974634237388611817608548345596346850015604555843206188852678733112208651441748466660131114979229149622126795521825199741991929902579116887094347544817549842165339248497015255348660987213588222020257853529893190617518793070e45*I\n"
     ]
    }
   ],
   "source": [
    "# First we find upper half plane representative.\n",
    "N = 500\n",
    "j = j_invariant_qexp(N)\n",
    "EQ = EllipticCurve([1,0,0,-36/(2^4 * 3^3 * 5^3-1728),-1/(2^4 * 3^3 * 5^3-1728)])\n",
    "v = EQ.period_lattice().basis(prec=1000)\n",
    "t1 = v[1]/v[0]\n",
    "t0 = -1/(-1/t1+2)\n",
    "C = ComplexField(1000)\n",
    "q0 = C(e^(2*C(pi)*I*t0))\n",
    "R.<q> = LaurentSeriesRing(QQ,N)\n",
    "jmap = sum(j[i]*q^i for i in range(-1,N-1))\n",
    "jmap67 = jmap(q^67)\n",
    "print(jmap(q0))\n",
    "print(jmap67(q0))"
   ]
  },
  {
   "cell_type": "code",
   "execution_count": 3,
   "metadata": {},
   "outputs": [],
   "source": [
    "a = []\n",
    "for i in range(67):\n",
    "    a.append(C(t0/(i*t0+1)))\n",
    "\n",
    "a.append(-1/t0)\n",
    "b = []\n",
    "for i in range(0,68):\n",
    "    b.append(C(e^(2*pi*I*a[i])))\n",
    "\n",
    "C2 = ComplexField(100)"
   ]
  },
  {
   "cell_type": "raw",
   "metadata": {},
   "source": [
    "j = []\n",
    "for i in range(0,68):\n",
    "    j.append(elliptic_j(a[i]))\n",
    "    print(C2(j[i]))"
   ]
  },
  {
   "cell_type": "markdown",
   "metadata": {},
   "source": [
    "j67 = []\n",
    "for i in range(0,68):\n",
    "    j67.append(jmap67(b[i]))\n",
    "    print(C2(j67[i]))"
   ]
  },
  {
   "cell_type": "code",
   "execution_count": 4,
   "metadata": {},
   "outputs": [],
   "source": [
    "# Then we figure out the correct hecke image.\n",
    "mfprec = 1000\n",
    "M = CuspForms(Gamma0(67),2, prec = mfprec).echelon_form()\n",
    "A = M.basis()\n",
    "\n",
    "e0 = 2*A[0]-3*A[1]-3*A[2]+3*A[3]-6*A[4]\n",
    "e1 = 0*A[0]-A[1]+A[2]+3*A[3]+0*A[4]\n",
    "\n",
    "cfprec = 1000\n",
    "CF = ComplexField(cfprec)\n",
    "\n",
    "EQ = EllipticCurve([1,0,0,-36/(2^4 * 3^3 * 5^3-1728),-1/(2^4 * 3^3 * 5^3-1728)])\n",
    "v = EQ.period_lattice().basis(prec=cfprec)\n",
    "t1 = v[1]/v[0]\n",
    "t0 = -1/(-1/t1+2)\n",
    "\n",
    "a = []\n",
    "for i in range(67):\n",
    "    a.append(CF(t0/(i*t0+1)))\n",
    "b = []\n",
    "for i in range(0,67):\n",
    "    b.append(CF(e^(2*pi*I*a[i])))\n",
    "#q0 = b[10] \n",
    "t0 = a[10]\n",
    "t00 = -1/(67*t0) #this is another representative obtained by W_67 action\n",
    "q00 = CF(e^(2*pi*I*t00))\n",
    "t0 = t00\n",
    "q0 = q00"
   ]
  },
  {
   "cell_type": "code",
   "execution_count": 5,
   "metadata": {},
   "outputs": [],
   "source": [
    "p = 13\n",
    "hh =[]\n",
    "for i in range(p):\n",
    "    hh.append((t0+i)/p)\n",
    "hh.append(p*t0)\n",
    "qq = []\n",
    "for i in range(p+1):\n",
    "    qq.append(e^(2*pi*I*hh[i]))"
   ]
  },
  {
   "cell_type": "code",
   "execution_count": 6,
   "metadata": {},
   "outputs": [],
   "source": [
    "heckep = []\n",
    "for i in range(p+1):\n",
    "    heckep.append((elliptic_j(hh[i])+jmap67(qq[i])))"
   ]
  },
  {
   "cell_type": "code",
   "execution_count": 7,
   "metadata": {},
   "outputs": [
    {
     "name": "stdout",
     "output_type": "stream",
     "text": [
      "Number Field in d with defining polynomial y^24 + 14*y^22 - 25*y^20 - 64*y^18 + 703*y^16 + 1158*y^14 - 1871*y^12 - 4588*y^10 - 376*y^8 + 5240*y^6 + 4096*y^4 + 768*y^2 + 144\n"
     ]
    }
   ],
   "source": [
    "j_S = 2^4 * 3^3 * 5^3\n",
    "# we use modular polynomial\n",
    "from ast import literal_eval\n",
    "with open('13.txt','r') as f:\n",
    "    L = f.readlines()\n",
    "modlist = [ literal_eval(i) for i in L]\n",
    "R.<x,y> = PolynomialRing(QQ)\n",
    "f = 0\n",
    "for i in modlist:\n",
    "    if i[0][0] == i[0][1]:\n",
    "        f += i[1]*x^i[0][0]*y^i[0][1]\n",
    "    else:\n",
    "        f += i[1]*x^i[0][0]*y^i[0][1] + i[1]*y^i[0][0]*x^i[0][1]\n",
    "# f is the modular polynomial for p \n",
    "# we want to find the coordinates of the images of S under the action of T_p\n",
    "f_S = f(j_S,y)\n",
    "RR.<y> = PolynomialRing(QQ)\n",
    "L.<d> = Rr=RR(f_S).splitting_field()\n",
    "u_S = RR(f_S).roots(L)\n",
    "print(L)"
   ]
  },
  {
   "cell_type": "code",
   "execution_count": 8,
   "metadata": {},
   "outputs": [],
   "source": [
    "modroots = []\n",
    "for i in range(len(u_S)):\n",
    "    modroots.append(L.embeddings(CF)[0](u_S[i][0]))"
   ]
  },
  {
   "cell_type": "code",
   "execution_count": 9,
   "metadata": {},
   "outputs": [
    {
     "name": "stdout",
     "output_type": "stream",
     "text": [
      "for hecke image 0 we have 3 6\n",
      "for hecke image 1 we have 12 12\n",
      "for hecke image 2 we have 5 7\n",
      "for hecke image 3 we have 1 11\n",
      "for hecke image 4 we have 9 11\n",
      "for hecke image 5 we have 9 10\n",
      "for hecke image 6 we have 2 4\n",
      "for hecke image 7 we have 12 12\n",
      "for hecke image 8 we have 0 8\n",
      "for hecke image 9 we have 3 4\n",
      "for hecke image 10 we have 1 2\n",
      "for hecke image 11 we have 7 10\n",
      "for hecke image 12 we have 0 5\n",
      "for hecke image 13 we have 6 8\n"
     ]
    }
   ],
   "source": [
    "a = []\n",
    "for k in range(p+1):\n",
    "    break2 = False\n",
    "    for i in range(len(modroots)):\n",
    "        for j in range(len(modroots)):\n",
    "            if norm(modroots[i]+modroots[j] - CF(heckep[k]))< 0.0001:\n",
    "                print('for hecke image',k, 'we have', i,j)\n",
    "                a.append([k,i,j])\n",
    "                break2 = True\n",
    "                break\n",
    "        if (break2):\n",
    "            break"
   ]
  },
  {
   "cell_type": "code",
   "execution_count": 10,
   "metadata": {},
   "outputs": [],
   "source": [
    "heckejsum = []\n",
    "for i in range(p+1):\n",
    "    heckejsum.append(u_S[a[i][1]][0]+u_S[a[i][2]][0]-j_S*2)"
   ]
  },
  {
   "cell_type": "code",
   "execution_count": 11,
   "metadata": {},
   "outputs": [],
   "source": [
    "# compute coefficient of expansion\n",
    "#S = (1,1),omega0\n",
    "prec = 200\n",
    "t = var('t')\n",
    "\n",
    "g = t^6 + 2*t^5 + t^4 - 2*t^3 + 2*t^2 - 4*t +1\n",
    "omega = taylor((2*t/sqrt(g) - 1/(sqrt(g))),t,1,prec + 1)\n",
    "omega = omega( t + 1) # t is now x-1\n",
    "\n",
    "a = 20*t^68 + t^67 - 1340*t^66 - 1407*t^65 + 41473*t^64 + 83817*t^63 - 746313*t^62 - 2327580*t^61 + 8005897*t^60 + 38746100*t^59 - 40873216*t^58 - 419794731*t^57 - 148005881*t^56 + 2987564304*t^55 + 4440991083*t^54 - 12847654747*t^53 - 38384467835*t^52 + 18734827497*t^51 + 186353335087*t^50 + 134676041926*t^49 - 494427647107*t^48 - 969206657737*t^47 + 269471024932*t^46 + 2718179489643*t^45 + 2664686507671*t^44 - 2227008140289*t^43 - 8129290210235*t^42 - 7295125212687*t^41 + 4393873541906*t^40 + 19666316236402*t^39 + 20510124351593*t^38 - 3064980383156*t^37 - 34346712375782*t^36 - 42840426460251*t^35 - 14378166733495*t^34 + 35214804058006*t^33 + 66222722328441*t^32 + 46281971570628*t^31 - 11186706773044*t^30 - 59581043556404*t^29 - 65435437733326*t^28 - 27091724701541*t^27 + 25132902472048*t^26 + 49963683976237*t^25 + 37326955304027*t^24 + 7645991254887*t^23 - 17386738043161*t^22 - 23242787360747*t^21 - 12291349478028*t^20 - 163604334178*t^19 + 5852922436363*t^18 + 5869523110247*t^17 + 2146291109421*t^16 - 450596123425*t^15 - 941464376303*t^14 - 717106993552*t^13 - 157468052949*t^12 + 93798131437*t^11 + 55941548093*t^10 + 32731666780*t^9 + 1566914260*t^8 - 5074725457*t^7 - 336831847*t^6 - 320218728*t^5 + 70110542*t^4 + 26090805*t^3 - 2532245*t^2 + 3900*t + 9250\n",
    "b = -20*t^65 + 19*t^64 + 1321*t^63 + 66*t^62 - 41480*t^61 - 41134*t^60 + 785027*t^59 + 1506109*t^58 - 9475242*t^57 - 28566709*t^56 + 69381796*t^55 + 341127933*t^54 - 200060069*t^53 - 2702908875*t^52 - 1606626235*t^51 + 13938977183*t^50 + 23137291497*t^49 - 40051969211*t^48 - 138101283517*t^47 + 2501695170*t^46 + 459393439642*t^45 + 484513635980*t^44 - 682977612242*t^43 - 1910104491111*t^42 - 775547385402*t^41 + 2783797861661*t^40 + 5076693220255*t^39 + 2018263603226*t^38 - 6129244020301*t^37 - 12199578803272*t^36 - 6846174739625*t^35 + 9172324777054*t^34 + 21602364354832*t^33 + 17042315016716*t^32 - 3754439014817*t^31 - 25856571836517*t^30 - 29772153984074*t^29 - 10028740093261*t^28 + 16554230317818*t^27 + 29386953959388*t^26 + 21708795017639*t^25 + 1033505405932*t^24 - 15958739370916*t^23 - 17863406002648*t^22 - 8832800792857*t^21 + 1624656365570*t^20 + 7202315429557*t^19 + 5959896438603*t^18 + 1891097097983*t^17 - 787359295234*t^16 - 1584708381178*t^15 - 1015418075952*t^14 - 167488492201*t^13 + 134968287160*t^12 + 148081381777*t^11 + 73691811392*t^10 + 283742259*t^9 - 7766363193*t^8 - 3904864306*t^7 - 1509572861*t^6 + 285609794*t^5 + 68333601*t^4 + 7855285*t^3 + 2005965*t^2 - 368000*t - 22750\n",
    "c = 40*t + 2\n",
    "j_sum = (a + b*(sqrt(g)))/c\n",
    "j_sum = taylor(j_sum,t,1,prec + 1)\n",
    "j_sum = j_sum(t + 1)\n",
    "jsum = j_sum - j_sum(0)\n",
    "djsum = jsum.differentiate(t)\n",
    "\n",
    "R.<t> = PowerSeriesRing(QQ, default_prec= prec + 1)\n",
    "jsum = R(jsum).truncate_powerseries(prec + 1)\n",
    "djsum = R(djsum).truncate_powerseries(prec + 1)\n",
    "omega = R(omega).truncate_powerseries(prec + 1)\n",
    "\n",
    "v = vector(omega.list())\n",
    "\n",
    "M = zero_matrix(QQ,prec + 1)\n",
    "jidj = djsum.truncate_powerseries(prec +1)\n",
    "for i in range(prec + 1):\n",
    "    for j in range(prec + 1):\n",
    "        if i <= j:\n",
    "            M[j,i] = jidj[j]\n",
    "    jidj = (jsum*jidj).truncate_powerseries(prec + 1)\n",
    "    \n",
    "soln0 = M.solve_right(v)"
   ]
  },
  {
   "cell_type": "code",
   "execution_count": 13,
   "metadata": {},
   "outputs": [
    {
     "name": "stdout",
     "output_type": "stream",
     "text": [
      "11*13 + 8*13^2 + 6*13^3 + 8*13^4 + 3*13^5 + 6*13^6 + 6*13^7 + 7*13^8 + 11*13^9 + 4*13^10 + 7*13^11 + 3*13^12 + 9*13^13 + 6*13^14 + 13^15 + 11*13^16 + 9*13^17 + 8*13^18 + 9*13^19 + 11*13^20 + O(13^21)\n"
     ]
    }
   ],
   "source": [
    "# compute integration\n",
    "Rr.<U> = PolynomialRing(L)\n",
    "RHS = sum((soln0[i]*U^i for i in range(200)))\n",
    "RHSint = integrate(RHS,U)\n",
    "#print(RHSint)\n",
    "int = sum((RHSint(U=i) for i in heckejsum))\n",
    "Q13 = Qp(13,20)\n",
    "#print(int)\n",
    "print(Q13(int))"
   ]
  },
  {
   "cell_type": "code",
   "execution_count": null,
   "metadata": {},
   "outputs": [],
   "source": []
  },
  {
   "cell_type": "code",
   "execution_count": 14,
   "metadata": {},
   "outputs": [],
   "source": [
    "# compute coefficient of expansion\n",
    "#S = (1,1),omega1\n",
    "\n",
    "prec = 200\n",
    "t = var('t')\n",
    "\n",
    "g = t^6 + 2*t^5 + t^4 - 2*t^3 + 2*t^2 - 4*t +1\n",
    "omega = taylor((1/sqrt(g)),t,1,prec + 1)\n",
    "omega = omega( t+1 ) # t is now x\n",
    "\n",
    "a = 20*t^68 + t^67 - 1340*t^66 - 1407*t^65 + 41473*t^64 + 83817*t^63 - 746313*t^62 - 2327580*t^61 + 8005897*t^60 + 38746100*t^59 - 40873216*t^58 - 419794731*t^57 - 148005881*t^56 + 2987564304*t^55 + 4440991083*t^54 - 12847654747*t^53 - 38384467835*t^52 + 18734827497*t^51 + 186353335087*t^50 + 134676041926*t^49 - 494427647107*t^48 - 969206657737*t^47 + 269471024932*t^46 + 2718179489643*t^45 + 2664686507671*t^44 - 2227008140289*t^43 - 8129290210235*t^42 - 7295125212687*t^41 + 4393873541906*t^40 + 19666316236402*t^39 + 20510124351593*t^38 - 3064980383156*t^37 - 34346712375782*t^36 - 42840426460251*t^35 - 14378166733495*t^34 + 35214804058006*t^33 + 66222722328441*t^32 + 46281971570628*t^31 - 11186706773044*t^30 - 59581043556404*t^29 - 65435437733326*t^28 - 27091724701541*t^27 + 25132902472048*t^26 + 49963683976237*t^25 + 37326955304027*t^24 + 7645991254887*t^23 - 17386738043161*t^22 - 23242787360747*t^21 - 12291349478028*t^20 - 163604334178*t^19 + 5852922436363*t^18 + 5869523110247*t^17 + 2146291109421*t^16 - 450596123425*t^15 - 941464376303*t^14 - 717106993552*t^13 - 157468052949*t^12 + 93798131437*t^11 + 55941548093*t^10 + 32731666780*t^9 + 1566914260*t^8 - 5074725457*t^7 - 336831847*t^6 - 320218728*t^5 + 70110542*t^4 + 26090805*t^3 - 2532245*t^2 + 3900*t + 9250\n",
    "b = -20*t^65 + 19*t^64 + 1321*t^63 + 66*t^62 - 41480*t^61 - 41134*t^60 + 785027*t^59 + 1506109*t^58 - 9475242*t^57 - 28566709*t^56 + 69381796*t^55 + 341127933*t^54 - 200060069*t^53 - 2702908875*t^52 - 1606626235*t^51 + 13938977183*t^50 + 23137291497*t^49 - 40051969211*t^48 - 138101283517*t^47 + 2501695170*t^46 + 459393439642*t^45 + 484513635980*t^44 - 682977612242*t^43 - 1910104491111*t^42 - 775547385402*t^41 + 2783797861661*t^40 + 5076693220255*t^39 + 2018263603226*t^38 - 6129244020301*t^37 - 12199578803272*t^36 - 6846174739625*t^35 + 9172324777054*t^34 + 21602364354832*t^33 + 17042315016716*t^32 - 3754439014817*t^31 - 25856571836517*t^30 - 29772153984074*t^29 - 10028740093261*t^28 + 16554230317818*t^27 + 29386953959388*t^26 + 21708795017639*t^25 + 1033505405932*t^24 - 15958739370916*t^23 - 17863406002648*t^22 - 8832800792857*t^21 + 1624656365570*t^20 + 7202315429557*t^19 + 5959896438603*t^18 + 1891097097983*t^17 - 787359295234*t^16 - 1584708381178*t^15 - 1015418075952*t^14 - 167488492201*t^13 + 134968287160*t^12 + 148081381777*t^11 + 73691811392*t^10 + 283742259*t^9 - 7766363193*t^8 - 3904864306*t^7 - 1509572861*t^6 + 285609794*t^5 + 68333601*t^4 + 7855285*t^3 + 2005965*t^2 - 368000*t - 22750\n",
    "c = 40*t + 2\n",
    "j_sum = (a + b*(sqrt(g)))/c\n",
    "j_sum = taylor(j_sum,t,1,prec + 1)\n",
    "j_sum = j_sum(t +1)\n",
    "jsum = j_sum - j_sum(0)\n",
    "djsum = jsum.differentiate(t)\n",
    "\n",
    "R.<t> = PowerSeriesRing(QQ, default_prec= prec + 1)\n",
    "jsum = R(jsum).truncate_powerseries(prec + 1)\n",
    "djsum = R(djsum).truncate_powerseries(prec + 1)\n",
    "omega = R(omega).truncate_powerseries(prec + 1)\n",
    "\n",
    "v = vector(omega.list())\n",
    "\n",
    "M = zero_matrix(QQ,prec + 1)\n",
    "jidj = djsum.truncate_powerseries(prec +1)\n",
    "for i in range(prec + 1):\n",
    "    for j in range(prec + 1):\n",
    "        if i <= j:\n",
    "            M[j,i] = jidj[j]\n",
    "    jidj = (jsum*jidj).truncate_powerseries(prec + 1)\n",
    "    \n",
    "soln1 = M.solve_right(v)"
   ]
  },
  {
   "cell_type": "code",
   "execution_count": 17,
   "metadata": {},
   "outputs": [
    {
     "name": "stdout",
     "output_type": "stream",
     "text": [
      "3*13 + 7*13^2 + 2*13^3 + 10*13^4 + 8*13^5 + 5*13^6 + 8*13^8 + 10*13^9 + 2*13^10 + 13^11 + 3*13^12 + 7*13^13 + 4*13^14 + 13^15 + 12*13^16 + 12*13^18 + 12*13^19 + 7*13^20 + O(13^21)\n"
     ]
    }
   ],
   "source": [
    "# compute integration\n",
    "Rr.<U> = PolynomialRing(L)\n",
    "RHS = sum((soln1[i]*U^i for i in range(200)))\n",
    "RHSint = integrate(RHS,U)\n",
    "#print(RHSint)\n",
    "int1 = sum((RHSint(U=i) for i in heckejsum))\n",
    "Q13 = Qp(13,20)\n",
    "#print(int1)\n",
    "print(Q13(int1))"
   ]
  },
  {
   "cell_type": "code",
   "execution_count": null,
   "metadata": {},
   "outputs": [],
   "source": []
  }
 ],
 "metadata": {
  "kernelspec": {
   "display_name": "Python 3 (ipykernel)",
   "language": "python",
   "name": "python3"
  },
  "language_info": {
   "codemirror_mode": {
    "name": "ipython",
    "version": 3
   },
   "file_extension": ".py",
   "mimetype": "text/x-python",
   "name": "python",
   "nbconvert_exporter": "python",
   "pygments_lexer": "ipython3",
   "version": "3.11.1"
  }
 },
 "nbformat": 4,
 "nbformat_minor": 4
}
